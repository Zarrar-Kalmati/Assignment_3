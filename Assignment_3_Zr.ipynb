{
 "cells": [
  {
   "cell_type": "markdown",
   "id": "2b1e1f04-cf2b-47f4-a93d-0d7156ffcbab",
   "metadata": {},
   "source": [
    "## 1.Check Discount Eligibility\n",
    "Write a program to check if a customer is eligible for a discount. If the total purchase is more than $100, apply a 10% discount and display the final price. Otherwise, display the total price as it is."
   ]
  },
  {
   "cell_type": "code",
   "execution_count": null,
   "id": "bde1f1be-14d5-4ba9-8e26-404687fbf175",
   "metadata": {},
   "outputs": [],
   "source": [
    "## 1.Check Discount Eligibility\n",
    "Write a program to check if a customer is eligible for a discount. If the total purchase is more than $100, apply a 10% discount and display the final price. Otherwise, display the total price as it is.\n",
    "## 2.Calculate Bulk Discount\n",
    "If a customer buys more than 5 items, apply a 15% discount on the total price. Otherwise, no discount is applied. Display the total price.\n",
    "## 3.Membership Discount\n",
    "Check if the customer is a member (is_member = True). Members get a 20% discount; non-members get a 5% discount. Calculate and print the discounted price.\n",
    "## 4.Seasonal Sale\n",
    "If today is a holiday (is_holiday = True), apply a 25% discount; otherwise, apply a 10% discount. Calculate the price after discount.\n",
    "## 5.Buy-One-Get-One-Free\n",
    "If a customer buys an even number of items, they get half of them for free. Otherwise, they pay for all. Calculate the number of items the customer has to pay for.\n",
    "## 6.Sales Tax\n",
    "If the price of an item is greater than $500, apply a luxury tax of 15%. Otherwise, apply a standard tax of 8%. Display the total price after tax.\n",
    "## 7.Income Tax\n",
    "If a person's annual income is above $50,000, they pay 20% tax. Otherwise, they pay 10%. Calculate and display the tax amount\n",
    "## 8.Tax Bracket\n",
    "Write a program to categorize a person into tax brackets:\n",
    "Income < $30,000: \"Low Tax\"\n",
    "$30,000 ≤ Income < $100,000: \"Medium Tax\"\n",
    "Income ≥ $100,000: \"High Tax                                                                                               \n",
    "## 9.VAT Calculation\n",
    "If the item is marked as essential (is_essential = True), apply a VAT of 5%. Otherwise, apply a VAT of 12%. Display the final price.\n",
    "## 10.Tax-Free Day\n",
    "If today is a tax-free day (tax_free = True), display the original price. Otherwise, add a 7% tax.\n",
    "## 11.Free Shipping\n",
    "If the total purchase amount is more than $50, offer free shipping; otherwise, charge $5 for shipping. Display the total amount including shipping.\n",
    "## 12. Discount Code\n",
    "If a customer enters the correct discount code (DISCOUNT10), apply a 10% discount. Otherwise, charge the full amount\n",
    "## 15.Loyalty Points\n",
    "If a customer is a loyal member (is_loyal = True), they earn double loyalty points for their purchase. Otherwise, they earn standard points.\n",
    "## 14.Minimum Purchase Requirement\n",
    "If the total amount is less than $20, display a message: \"Minimum purchase of $20 is required.\" Otherwise, display the total amount.\n",
    "## 13.Tiered Discounts\n",
    "Apply discounts based on the total price:\n",
    "$0–$50: No discount.\n",
    "$50–$100: 10% discount.\n",
    "Over $100: 20% discount.\n",
    "## 16.Travel Discount\n",
    "If a person is traveling more than 500 miles, offer a 20% discount on ticket price. Otherwise, charge the full amount.\n",
    "## 17.Child or Senior Discount\n",
    "If a passenger is under 12 or over 60 years old, apply a 15% discount on the ticket price. Otherwise, charge the full price.\n",
    "## 18.Ticket Type Pricing\n",
    "If the ticket is for a weekend (is_weekend = True), add a 10% surcharge. Otherwise, charge the standard price.\n",
    "## 19.Baggage Fee\n",
    "If the total baggage weight is over 20kg, charge $10 per extra kilogram. Otherwise, no extra fee.\n",
    "## 20.Early Bird Discount\n",
    "If a ticket is booked more than 30 days in advance, apply a 10% discount. Otherwise, charge the full price.\n",
    "## 21.Pass or Fail\n",
    "If a student scores 40 or more, print \"Pass\". Otherwise, print \"Fail\".\n",
    "## 22.Grade Assignment\n",
    "Based on a student's score, assign grades:\n",
    "90 and above: \"A\"\n",
    "75–89: \"B\"\n",
    "50–74: \"C\"\n",
    "Below 50: \"F\n",
    "## 24.Attendance Eligibility\n",
    "If a student's attendance is 75% or more, they are eligible to take the exam. Otherwise, they are not.\n",
    "## 25.Scholarship Eligibility\n",
    "If a student's grade is \"A\" and their annual family income is below $30,000, they are eligible for a scholarship. Otherwise, they are not.\n",
    "                                                                                                          "
   ]
  },
  {
   "cell_type": "code",
   "execution_count": 4,
   "id": "13cdfc3f-d223-4ea7-be5d-808aa565e28a",
   "metadata": {},
   "outputs": [
    {
     "name": "stdin",
     "output_type": "stream",
     "text": [
      "Enter the Price in Dollars: 200\n"
     ]
    },
    {
     "name": "stdout",
     "output_type": "stream",
     "text": [
      "Congratulations You Got 10% Discount on your Product now the discountted amount is:180.0$\n"
     ]
    }
   ],
   "source": [
    "price=float(input(\"Enter the Price in Dollars:\"))\n",
    "discount=price*0.1\n",
    "final_price=price-discount\n",
    "if price >100:\n",
    "    print(f\"Congratulations You Got 10% Discount on your Product now the discountted amount is:{final_price}$\")\n",
    "else:\n",
    "    print(\"The amount of shopping is:\",price)\n",
    "    \n",
    "    "
   ]
  },
  {
   "cell_type": "markdown",
   "id": "0a5651d1-c497-4f90-b7fc-094477252e59",
   "metadata": {},
   "source": [
    "## 2.Calculate Bulk Discount\n",
    "If a customer buys more than 5 items, apply a 15% discount on the total price. Otherwise, no discount is applied. Display the total price."
   ]
  },
  {
   "cell_type": "code",
   "execution_count": 34,
   "id": "ed8e0767-d1fb-48fe-8d0b-c0d544db36ad",
   "metadata": {},
   "outputs": [
    {
     "name": "stdin",
     "output_type": "stream",
     "text": [
      "Enter the number of items: 10\n",
      "Enter the amount of items: 10000\n"
     ]
    },
    {
     "name": "stdout",
     "output_type": "stream",
     "text": [
      "You have bought more than 5 items so Congratulations there is 15% discount on it so the Total amount after discount is : 8500.0\n"
     ]
    }
   ],
   "source": [
    "item=float(input(\"Enter the number of items:\"))\n",
    "if item>5:\n",
    "    item1=float(input(\"Enter the amount of items:\"))\n",
    "    discount=item1*0.15\n",
    "    final_price=item1-discount\n",
    "    print(\"You have bought more than 5 items so Congratulations there is 15% discount on it so the Total amount after discount is :\",final_price)\n",
    "else:\n",
    "    item2=float(input(\"Enter the amount of items:\"))\n",
    "    print(\"The Total Amount Is:\",item2)\n",
    "    "
   ]
  },
  {
   "cell_type": "markdown",
   "id": "ed47b6e7-a585-4be9-81d3-2b3ceec889e3",
   "metadata": {},
   "source": [
    "## 3.Membership Discount\n",
    "Check if the customer is a member (is_member = True). Members get a 20% discount; non-members get a 5% discount. Calculate and print the discounted price."
   ]
  },
  {
   "cell_type": "code",
   "execution_count": 41,
   "id": "99a3a3dc-1600-4943-bf72-f4331bd9e228",
   "metadata": {},
   "outputs": [
    {
     "name": "stdin",
     "output_type": "stream",
     "text": [
      "Enter your name: Zaid\n",
      "Enter the amount of product: 10000\n"
     ]
    },
    {
     "name": "stdout",
     "output_type": "stream",
     "text": [
      "Your a member so congratulations you got 20% discount on your purchase so now the amount is: 8000.0\n"
     ]
    }
   ],
   "source": [
    "Members=([\"Zarrar\",\"Zaid\",\"Abdullah\",\"Hammad\",\"Obaid\",\"Saleh\"])\n",
    "member1=input(\"Enter your name:\")\n",
    "if member1 in Members:\n",
    "    item=float(input(\"Enter the amount of product:\"))\n",
    "    discount=item*0.2\n",
    "    final_price=item-discount\n",
    "    print(\"Your a member so congratulations you got 20% discount on your purchase so now the amount is:\",final_price)\n",
    "else:\n",
    "    item1=float(input(\"Enter the amount of the product:\"))\n",
    "    discount2=item1*0.05\n",
    "    final_price1=item1-discount2\n",
    "    print(\"You are not a member so you have got 5% discount on you purchase so now the total amount is:\",final_price1)"
   ]
  },
  {
   "cell_type": "markdown",
   "id": "c456a23e-fc0d-49f4-aada-09b91de4cff8",
   "metadata": {},
   "source": [
    "## 4.Seasonal Sale\n",
    "If today is a holiday (is_holiday = True), apply a 25% discount; otherwise, apply a 10% discount. Calculate the price after discount."
   ]
  },
  {
   "cell_type": "code",
   "execution_count": 45,
   "id": "8ce49e07-1004-4d06-9cce-fdf99974aea3",
   "metadata": {},
   "outputs": [
    {
     "name": "stdin",
     "output_type": "stream",
     "text": [
      "Which Day is Today: Sunday\n",
      "Enter the amount of product: 100\n"
     ]
    },
    {
     "name": "stdout",
     "output_type": "stream",
     "text": [
      "Today is Holiday,Congratulations you have got 20% discount on your Purchase your total amount is: 75.0\n"
     ]
    }
   ],
   "source": [
    "holiday=([\"Saturday\",\"Sunday\"])\n",
    "day=input(\"Which Day is Today:\")\n",
    "item=float(input(\"Enter the amount of product:\"))\n",
    "if day in holiday:\n",
    "    discount=item*0.25\n",
    "    final_price=item-discount\n",
    "    print(\"Today is Holiday,Congratulations you have got 20% discount on your Purchase your total amount is:\",final_price)\n",
    "else:\n",
    "    discount=item*0.1\n",
    "    final_price=item-discount\n",
    "    print(\"The total amount is :\",final_price)\n",
    "    "
   ]
  },
  {
   "cell_type": "markdown",
   "id": "4a749d73-efe6-4310-a861-96932e2d7047",
   "metadata": {},
   "source": [
    "## 5.Buy-One-Get-One-Free\n",
    "If a customer buys an even number of items, they get half of them for free. Otherwise, they pay for all. Calculate the number of items the customer has to pay for.\n"
   ]
  },
  {
   "cell_type": "code",
   "execution_count": 25,
   "id": "a05faa80-e474-4f0e-83ac-28ee783b88cb",
   "metadata": {},
   "outputs": [
    {
     "name": "stdin",
     "output_type": "stream",
     "text": [
      "Enter the numbers of items you have purchased: 65\n",
      "Enter the amount of items: 1000\n"
     ]
    },
    {
     "name": "stdout",
     "output_type": "stream",
     "text": [
      "The amount of products are: 1000.0\n"
     ]
    }
   ],
   "source": [
    "item=int(input(\"Enter the numbers of items you have purchased:\"))\n",
    "if item% 2 == 0:\n",
    "    buy=int(input(\"Enter the amount of items:\"))\n",
    "    item2=buy/2\n",
    "    print(\"Congratulations you have won the offer now the price is: \",item2)\n",
    "else:\n",
    "    buy=float(input(\"Enter the amount of items:\"))\n",
    "    print(\"The amount of products are:\",buy)\n",
    "    "
   ]
  },
  {
   "cell_type": "markdown",
   "id": "6ac3b985-4ee4-42f0-9262-e3cb837780b2",
   "metadata": {},
   "source": [
    "## 6.Sales Tax\n",
    "If the price of an item is greater than $500, apply a luxury tax of 15%. Otherwise, apply a standard tax of 8%. Display the total price after tax."
   ]
  },
  {
   "cell_type": "code",
   "execution_count": 27,
   "id": "9c7e7d83-df02-44ae-8177-53594ee87767",
   "metadata": {},
   "outputs": [
    {
     "name": "stdin",
     "output_type": "stream",
     "text": [
      "Enter the amount of product 1000\n"
     ]
    },
    {
     "name": "stdout",
     "output_type": "stream",
     "text": [
      "The amount of products afthe luxury tax is : 1150.0\n"
     ]
    }
   ],
   "source": [
    "item=float(input(\"Enter the amount of product\"))\n",
    "if item > 500:\n",
    "    tax=item*(1+0.15)\n",
    "    print(\"The amount of products afthe luxury tax is :\",tax)\n",
    "else:\n",
    "    tax=item*(1+0.08)\n",
    "    print(\"The amount of products after standard tax is:\",tax)"
   ]
  },
  {
   "cell_type": "markdown",
   "id": "69b0f082-b33b-440e-9222-b571a8c1a2cd",
   "metadata": {},
   "source": [
    "## 7.Income Tax\n",
    "If a person's annual income is above $50,000, they pay 20% tax. Otherwise, they pay 10%. Calculate and display the tax amount"
   ]
  },
  {
   "cell_type": "code",
   "execution_count": 29,
   "id": "9af3c7bb-24f7-4a08-8d08-6d805c1289bc",
   "metadata": {},
   "outputs": [
    {
     "name": "stdin",
     "output_type": "stream",
     "text": [
      "Enter your income: 1000\n"
     ]
    },
    {
     "name": "stdout",
     "output_type": "stream",
     "text": [
      "After charging tax, your income is: 900.0\n"
     ]
    }
   ],
   "source": [
    "income=float(input(\"Enter your income:\"))\n",
    "if income>50000:\n",
    "    tax=income*0.20\n",
    "    tax1=income-tax\n",
    "    print(\"After charging tax, your income is:\",tax1)\n",
    "else:\n",
    "     tax=income*0.10\n",
    "     tax1=income-tax\n",
    "     print(\"After charging tax, your income is:\",tax1)"
   ]
  },
  {
   "cell_type": "markdown",
   "id": "cedf4387-f177-4665-a43c-bc4a67cd30b3",
   "metadata": {},
   "source": [
    "## 8.Tax Bracket\n",
    "Write a program to categorize a person into tax brackets:\n",
    "Income < $30,000: \"Low Tax\"\n",
    "$30,000 ≤ Income < $100,000: \"Medium Tax\"\n",
    "Income ≥ $100,000: \"High Tax\""
   ]
  },
  {
   "cell_type": "code",
   "execution_count": 6,
   "id": "0ae6600d-9292-47f0-ac55-15069e89bf8b",
   "metadata": {},
   "outputs": [
    {
     "name": "stdin",
     "output_type": "stream",
     "text": [
      "Enter yout income: 1000000\n"
     ]
    },
    {
     "name": "stdout",
     "output_type": "stream",
     "text": [
      "High Tax\n"
     ]
    }
   ],
   "source": [
    "income=float(input(\"Enter yout income:\"))\n",
    "if income<30000:\n",
    "    print(\"Low Tax\")\n",
    "elif income<=30000:\n",
    "    print(\"Medium tax\")\n",
    "elif income<=30000:\n",
    "    print(\"Medium tax\")\n",
    "elif income>=100000:\n",
    "    print(\"High Tax\")\n",
    "    \n",
    "    \n",
    "    \n",
    "    "
   ]
  },
  {
   "cell_type": "markdown",
   "id": "52c8171e-87c0-43ac-a6eb-543f19f3adaf",
   "metadata": {},
   "source": [
    "## 9.VAT Calculation\n",
    "If the item is marked as essential (is_essential = True), apply a VAT of 5%. Otherwise, apply a VAT of 12%. Display the final price."
   ]
  },
  {
   "cell_type": "code",
   "execution_count": 13,
   "id": "f57a1789-4dd4-4d9c-9585-eeb417f14138",
   "metadata": {},
   "outputs": [
    {
     "name": "stdin",
     "output_type": "stream",
     "text": [
      "Enter the item name: butter\n",
      "Enter the price: 100\n"
     ]
    },
    {
     "name": "stdout",
     "output_type": "stream",
     "text": [
      "Your product price after VAT is: 112.00000000000001\n"
     ]
    }
   ],
   "source": [
    "essential=(['egg','yougurt','milk','chiken','meat'])\n",
    "item=input(\"Enter the item name:\")\n",
    "price=float(input(\"Enter the price:\"))\n",
    "if item in essential:\n",
    "    final_price=price*(1+0.05)\n",
    "    print(\"Your product price after VAT is:\",final_price)\n",
    "else:\n",
    "    final_price=price*(1+0.12)\n",
    "    print(\"Your product price after VAT is:\",final_price)\n"
   ]
  },
  {
   "cell_type": "markdown",
   "id": "610415a0-58ec-4f75-a511-4f9313807134",
   "metadata": {},
   "source": [
    "## 10.Tax-Free Day\n",
    "If today is a tax-free day (tax_free = True), display the original price. Otherwise, add a 7% tax."
   ]
  },
  {
   "cell_type": "code",
   "execution_count": 15,
   "id": "e8081fe4-4d9b-4496-ac81-bcea2c6b0ac2",
   "metadata": {},
   "outputs": [
    {
     "name": "stdin",
     "output_type": "stream",
     "text": [
      "What day is today: monday\n",
      "Enter the item price: 100\n"
     ]
    },
    {
     "name": "stdout",
     "output_type": "stream",
     "text": [
      "The item price after adding tax is: 107.0\n"
     ]
    }
   ],
   "source": [
    "tax_free_days=(['Sunday'])\n",
    "day=input(\"What day is today:\")\n",
    "item=float(input(\"Enter the item price:\"))\n",
    "if day in tax_free_days:\n",
    "    print(\"The orginal price:\",item)\n",
    "else:\n",
    "    price=item*(1+0.07)\n",
    "    print(\"The item price after adding tax is:\",price)"
   ]
  },
  {
   "cell_type": "markdown",
   "id": "8f0092d5-a55c-4c8e-9c4a-39d694a50bd9",
   "metadata": {},
   "source": [
    "## 11.Free Shipping\n",
    "If the total purchase amount is more than $50, offer free shipping; otherwise, charge $5 for shipping. Display the total amount including shipping."
   ]
  },
  {
   "cell_type": "code",
   "execution_count": 17,
   "id": "089d0e5c-04d6-41da-ac90-a74060a31174",
   "metadata": {},
   "outputs": [
    {
     "name": "stdin",
     "output_type": "stream",
     "text": [
      "Enter the purchased amount: 15\n"
     ]
    },
    {
     "name": "stdout",
     "output_type": "stream",
     "text": [
      "After shipping fee your amount is : 20.0\n"
     ]
    }
   ],
   "source": [
    "amount=float(input(\"Enter the purchased amount:\"))\n",
    "if amount>50:\n",
    "    print(\"Congratulations you have purchased more than 50$ now you got free shiping, the amount is:\",amount)\n",
    "else:\n",
    "    charge=amount+5\n",
    "    print(\"After shipping fee your amount is :\",charge)"
   ]
  },
  {
   "cell_type": "markdown",
   "id": "09df52b7-add8-4181-8e16-085e79b3016b",
   "metadata": {},
   "source": [
    "## 12. Discount Code\n",
    "If a customer enters the correct discount code (DISCOUNT10), apply a 10% discount. Otherwise, charge the full amount"
   ]
  },
  {
   "cell_type": "code",
   "execution_count": 18,
   "id": "75461c51-2756-4ee9-a6a8-bd2f3bf0ed87",
   "metadata": {},
   "outputs": [
    {
     "name": "stdin",
     "output_type": "stream",
     "text": [
      "Enter the amount: 1000\n",
      "Enter the code: DISCOUNT10\n"
     ]
    },
    {
     "name": "stdout",
     "output_type": "stream",
     "text": [
      "Total price after discount is : 900.0\n"
     ]
    }
   ],
   "source": [
    "discout_code=(['DISCOUNT10'])\n",
    "amount=float(input(\"Enter the amount:\"))\n",
    "code=input(\"Enter the code:\")\n",
    "if code in discout_code:\n",
    "    discount=amount*0.10\n",
    "    final_price=amount-discount\n",
    "    print(\"Total price after discount is :\",final_price)\n",
    "else:\n",
    "    print(\"The full amount is:\",amount)"
   ]
  },
  {
   "cell_type": "markdown",
   "id": "1845bc3d-9cd5-4c7c-a2f6-5a0da597c53d",
   "metadata": {},
   "source": [
    "## 13.Tiered Discounts\n",
    "Apply discounts based on the total price:\n",
    "$0–$50: No discount.\n",
    "$50–$100: 10% discount.\n",
    "Over $100: 20% discount."
   ]
  },
  {
   "cell_type": "code",
   "execution_count": 3,
   "id": "a0f58e8f-aba5-4d0a-bf89-41acdf1bc640",
   "metadata": {},
   "outputs": [
    {
     "name": "stdin",
     "output_type": "stream",
     "text": [
      "Enter the amount: 220\n"
     ]
    },
    {
     "name": "stdout",
     "output_type": "stream",
     "text": [
      "The amount after 20% discount is: 176.0\n"
     ]
    }
   ],
   "source": [
    "amount=float(input(\"Enter the amount:\"))\n",
    "if amount<50:\n",
    "    print(\"No Discount the amount is:\",amount)\n",
    "elif amount>50 and amount<100:\n",
    "    discount=amount*0.10\n",
    "    final_price=amount-discount\n",
    "    print(\"The amount after 10% discount is:\",final_price)\n",
    "elif amount>100:\n",
    "    discount=amount*0.20\n",
    "    final_price=amount-discount\n",
    "    print(\"The amount after 20% discount is:\",final_price)\n",
    "    \n",
    "    "
   ]
  },
  {
   "cell_type": "markdown",
   "id": "aedc299b-bcb4-4478-9667-93a17b894c5c",
   "metadata": {},
   "source": [
    "## 14.Minimum Purchase Requirement\n",
    "If the total amount is less than $20, display a message: \"Minimum purchase of $20 is required.\" Otherwise, display the total amount.\n",
    "## 13.Tiered Discounts\n",
    "Apply discounts based on the total price:\n",
    "$0–$50: No discount.\n",
    "$50–$100: 10% discount.\n",
    "Over $100: 20% discount."
   ]
  },
  {
   "cell_type": "code",
   "execution_count": 2,
   "id": "2f555214-591b-463e-95b8-e005221f70f3",
   "metadata": {},
   "outputs": [
    {
     "name": "stdin",
     "output_type": "stream",
     "text": [
      "Enter the amount 10\n"
     ]
    },
    {
     "name": "stdout",
     "output_type": "stream",
     "text": [
      "Minimum purchase of $20 is required\n"
     ]
    }
   ],
   "source": [
    "purchase=float(input(\"Enter the amount\"))\n",
    "if purchase<20:\n",
    "    print(\"Minimum purchase of $20 is required\")\n",
    "else:\n",
    "    print(\"The total amount is:\",purchase)"
   ]
  },
  {
   "cell_type": "markdown",
   "id": "a48b615a-8aaf-42b1-8a2a-b5ff63a9423c",
   "metadata": {},
   "source": [
    "## 15.Loyalty Points\n",
    "If a customer is a loyal member (is_loyal = True), they earn double loyalty points for their purchase. Otherwise, they earn standard points.\n",
    "## 14.Minimum Purchase Requirement\n",
    "If the total amount is less than $20, display a message: \"Minimum purchase of $20 is required.\" Otherwise, display the total amount.\n",
    "## 13.Tiered Discounts\n",
    "Apply discounts based on the total price:\n",
    "$0–$50: No discount.\n",
    "$50–$100: 10% discount.\n",
    "Over $100: 20% discount."
   ]
  },
  {
   "cell_type": "code",
   "execution_count": 9,
   "id": "f60e71a3-a891-480a-ba63-bc26c690991e",
   "metadata": {},
   "outputs": [
    {
     "name": "stdin",
     "output_type": "stream",
     "text": [
      "Enter your name: Zarrar\n"
     ]
    },
    {
     "name": "stdout",
     "output_type": "stream",
     "text": [
      "since your a loyal member so you got double points for your purchase:\n"
     ]
    }
   ],
   "source": [
    "loyal_members=(['Zarrar','zaid','Hammad','kalmati','obaid'])\n",
    "name=input(\"Enter your name:\")\n",
    "if name in loyal_members:\n",
    "    print(\"since your a loyal member so you got double points for your purchase:\")\n",
    "else:\n",
    "    print(f\"Since your {name} so you have got the standard points:\")"
   ]
  },
  {
   "cell_type": "markdown",
   "id": "8eb5230d-5b58-4e59-bee1-8a4cbbf0f6d2",
   "metadata": {},
   "source": [
    "## 15.Loyalty Points\n",
    "If a customer is a loyal member (is_loyal = True), they earn double loyalty points for their purchase. Otherwise, they earn standard points.\n",
    "## 14.Minimum Purchase Requirement\n",
    "If the total amount is less than $20, display a message: \"Minimum purchase of $20 is required.\" Otherwise, display the total amount.\n",
    "## 13.Tiered Discounts\n",
    "Apply discounts based on the total price:\n",
    "$0–$50: No discount.\n",
    "$50–$100: 10% discount.\n",
    "Over $100: 20% discount.\n",
    "## 16.Travel Discount\n",
    "If a person is traveling more than 500 miles, offer a 20% discount on ticket price. Otherwise, charge the full amount."
   ]
  },
  {
   "cell_type": "code",
   "execution_count": 7,
   "id": "43658edd-3389-4be0-894d-6dddb418d8d4",
   "metadata": {},
   "outputs": [
    {
     "name": "stdin",
     "output_type": "stream",
     "text": [
      "How many do you have travelled: 600\n"
     ]
    },
    {
     "name": "stdout",
     "output_type": "stream",
     "text": [
      "The total amount of ticket after 20% discount : 1600.0\n"
     ]
    }
   ],
   "source": [
    "miles=float(input(\"How many do you have travelled:\"))\n",
    "ticket_price=2000\n",
    "if miles>500:\n",
    "    discount=ticket_price*0.20\n",
    "    final_price=ticket_price-discount\n",
    "    print(\"The total amount of ticket after 20% discount :\",final_price)\n",
    "    \n",
    "else:\n",
    "    print(\"The total amount of ticket is :\",ticket_price)\n",
    "    "
   ]
  },
  {
   "cell_type": "markdown",
   "id": "34292e9f-249d-4754-a425-3fc8466cdbff",
   "metadata": {},
   "source": [
    "## 15.Loyalty Points\n",
    "If a customer is a loyal member (is_loyal = True), they earn double loyalty points for their purchase. Otherwise, they earn standard points.\n",
    "## 14.Minimum Purchase Requirement\n",
    "If the total amount is less than $20, display a message: \"Minimum purchase of $20 is required.\" Otherwise, display the total amount.\n",
    "## 13.Tiered Discounts\n",
    "Apply discounts based on the total price:\n",
    "$0–$50: No discount.\n",
    "$50–$100: 10% discount.\n",
    "Over $100: 20% discount.\n",
    "## 16.Travel Discount\n",
    "If a person is traveling more than 500 miles, offer a 20% discount on ticket price. Otherwise, charge the full amount.\n",
    "## 17.Child or Senior Discount\n",
    "If a passenger is under 12 or over 60 years old, apply a 15% discount on the ticket price. Otherwise, charge the full price."
   ]
  },
  {
   "cell_type": "code",
   "execution_count": 15,
   "id": "f9d05c4c-0e1c-4bba-979a-dbba753a84bf",
   "metadata": {},
   "outputs": [
    {
     "name": "stdin",
     "output_type": "stream",
     "text": [
      "Enter your age: 10\n"
     ]
    },
    {
     "name": "stdout",
     "output_type": "stream",
     "text": [
      "The amount of ticket price after 15% discount is: 170.0\n"
     ]
    }
   ],
   "source": [
    "age=int(input(\"Enter your age:\"))\n",
    "ticket_price=200\n",
    "if age<12:\n",
    "    discount=ticket_price*0.15\n",
    "    final_price=ticket_price-discount\n",
    "    print(\"The amount of ticket price after 15% discount is:\",final_price)\n",
    "elif age>60:\n",
    "    discount=ticket_price*0.15\n",
    "    final_price=ticket_price-discount\n",
    "    print(\"The amount of ticket price after 15% discount is:\",final_price)\n",
    "    \n",
    "else:\n",
    "    print(\"The amount of ticket is:\",ticket_price)"
   ]
  },
  {
   "cell_type": "markdown",
   "id": "0c617bc0-7611-46bf-bfb3-8d4f36cb2ece",
   "metadata": {
    "jp-MarkdownHeadingCollapsed": true
   },
   "source": [
    "## 15.Loyalty Points\n",
    "If a customer is a loyal member (is_loyal = True), they earn double loyalty points for their purchase. Otherwise, they earn standard points.\n",
    "## 14.Minimum Purchase Requirement\n",
    "If the total amount is less than $20, display a message: \"Minimum purchase of $20 is required.\" Otherwise, display the total amount.\n",
    "## 13.Tiered Discounts\n",
    "Apply discounts based on the total price:\n",
    "$0–$50: No discount.\n",
    "$50–$100: 10% discount.\n",
    "Over $100: 20% discount.\n",
    "## 16.Travel Discount\n",
    "If a person is traveling more than 500 miles, offer a 20% discount on ticket price. Otherwise, charge the full amount.\n",
    "## 17.Child or Senior Discount\n",
    "If a passenger is under 12 or over 60 years old, apply a 15% discount on the ticket price. Otherwise, charge the full price.\n",
    "## 18.Ticket Type Pricing\n",
    "If the ticket is for a weekend (is_weekend = True), add a 10% surcharge. Otherwise, charge the standard price."
   ]
  },
  {
   "cell_type": "code",
   "execution_count": 18,
   "id": "9ac22d01-bb7c-4e1f-ba07-b9f73e9fb18e",
   "metadata": {},
   "outputs": [
    {
     "name": "stdin",
     "output_type": "stream",
     "text": [
      "What day is today: Sunday\n"
     ]
    },
    {
     "name": "stdout",
     "output_type": "stream",
     "text": [
      "Today is weekend so we charge 10% extra so now the total amount is: 450.0\n"
     ]
    }
   ],
   "source": [
    "weekend=([\"Sunday\",\"Saturday\"])\n",
    "ticket=500\n",
    "today=input(\"What day is today:\")\n",
    "if today in weekend:\n",
    "    discount=ticket*0.10\n",
    "    final_price=ticket-discount\n",
    "    print(\"Today is weekend so we charge 10% extra so now the total amount is:\",final_price)\n",
    "else:\n",
    "    print(\"The total amount of ticket is:\",ticket)\n",
    "    "
   ]
  },
  {
   "cell_type": "markdown",
   "id": "f3e611aa-6920-4bec-8072-2d43e51984a6",
   "metadata": {},
   "source": [
    "## 15.Loyalty Points\n",
    "If a customer is a loyal member (is_loyal = True), they earn double loyalty points for their purchase. Otherwise, they earn standard points.\n",
    "## 14.Minimum Purchase Requirement\n",
    "If the total amount is less than $20, display a message: \"Minimum purchase of $20 is required.\" Otherwise, display the total amount.\n",
    "## 13.Tiered Discounts\n",
    "Apply discounts based on the total price:\n",
    "$0–$50: No discount.\n",
    "$50–$100: 10% discount.\n",
    "Over $100: 20% discount.\n",
    "## 16.Travel Discount\n",
    "If a person is traveling more than 500 miles, offer a 20% discount on ticket price. Otherwise, charge the full amount.\n",
    "## 17.Child or Senior Discount\n",
    "If a passenger is under 12 or over 60 years old, apply a 15% discount on the ticket price. Otherwise, charge the full price.\n",
    "## 18.Ticket Type Pricing\n",
    "If the ticket is for a weekend (is_weekend = True), add a 10% surcharge. Otherwise, charge the standard price.\n",
    "## 19.Baggage Fee\n",
    "If the total baggage weight is over 20kg, charge $10 per extra kilogram. Otherwise, no extra fee."
   ]
  },
  {
   "cell_type": "code",
   "execution_count": 2,
   "id": "408942c2-5c0e-4077-9163-93659b2ced96",
   "metadata": {},
   "outputs": [
    {
     "name": "stdin",
     "output_type": "stream",
     "text": [
      "Enter the weight in Kg: 10\n"
     ]
    },
    {
     "name": "stdout",
     "output_type": "stream",
     "text": [
      "Since the weight is 10.0Kg so the amount is: 500\n"
     ]
    }
   ],
   "source": [
    "fee=500\n",
    "weight=float(input(\"Enter the weight in Kg:\"))\n",
    "if weight >20:\n",
    "    charge = fee+10\n",
    "    print(f\"Since the weight is {weight}Kg so the total fee after charge is: {charge} \")\n",
    "else:\n",
    "    print(f\"Since the weight is {weight}Kg so the amount is: {fee}\")"
   ]
  },
  {
   "cell_type": "markdown",
   "id": "f826ab5a-6d77-4142-b6c1-cd1ff251a3fe",
   "metadata": {},
   "source": [
    "## 15.Loyalty Points\n",
    "If a customer is a loyal member (is_loyal = True), they earn double loyalty points for their purchase. Otherwise, they earn standard points.\n",
    "## 14.Minimum Purchase Requirement\n",
    "If the total amount is less than $20, display a message: \"Minimum purchase of $20 is required.\" Otherwise, display the total amount.\n",
    "## 13.Tiered Discounts\n",
    "Apply discounts based on the total price:\n",
    "$0–$50: No discount.\n",
    "$50–$100: 10% discount.\n",
    "Over $100: 20% discount.\n",
    "## 16.Travel Discount\n",
    "If a person is traveling more than 500 miles, offer a 20% discount on ticket price. Otherwise, charge the full amount.\n",
    "## 17.Child or Senior Discount\n",
    "If a passenger is under 12 or over 60 years old, apply a 15% discount on the ticket price. Otherwise, charge the full price.\n",
    "## 18.Ticket Type Pricing\n",
    "If the ticket is for a weekend (is_weekend = True), add a 10% surcharge. Otherwise, charge the standard price.\n",
    "## 19.Baggage Fee\n",
    "If the total baggage weight is over 20kg, charge $10 per extra kilogram. Otherwise, no extra fee.\n",
    "## 20.Early Bird Discount\n",
    "If a ticket is booked more than 30 days in advance, apply a 10% discount. Otherwise, charge the full price."
   ]
  },
  {
   "cell_type": "code",
   "execution_count": 4,
   "id": "59a5cedc-a79d-43e3-9b8c-2879e55c1957",
   "metadata": {},
   "outputs": [
    {
     "name": "stdin",
     "output_type": "stream",
     "text": [
      "How many days you have been booked the ticket: 33\n"
     ]
    },
    {
     "name": "stdout",
     "output_type": "stream",
     "text": [
      "Since you have booked the ticket 33 days ago, now you have 10% discount so the amount is 1800.0\n"
     ]
    }
   ],
   "source": [
    "ticket_price=2000\n",
    "booked=int(input(\"How many days you have been booked the ticket:\"))\n",
    "if booked >30:\n",
    "    discoint=ticket_price*0.10\n",
    "    print(f\"Since you have booked the ticket {booked} days ago, now you have 10% discount so the amount is {ticket_price-discoint}\")\n",
    "else:\n",
    "    print(\"your ticket price is:\",ticket_price)\n",
    "    "
   ]
  },
  {
   "cell_type": "markdown",
   "id": "50641db8-69f7-4eb3-9d69-e3773e698b86",
   "metadata": {},
   "source": [
    "## 15.Loyalty Points\n",
    "If a customer is a loyal member (is_loyal = True), they earn double loyalty points for their purchase. Otherwise, they earn standard points.\n",
    "## 14.Minimum Purchase Requirement\n",
    "If the total amount is less than $20, display a message: \"Minimum purchase of $20 is required.\" Otherwise, display the total amount.\n",
    "## 13.Tiered Discounts\n",
    "Apply discounts based on the total price:\n",
    "$0–$50: No discount.\n",
    "$50–$100: 10% discount.\n",
    "Over $100: 20% discount.\n",
    "## 16.Travel Discount\n",
    "If a person is traveling more than 500 miles, offer a 20% discount on ticket price. Otherwise, charge the full amount.\n",
    "## 17.Child or Senior Discount\n",
    "If a passenger is under 12 or over 60 years old, apply a 15% discount on the ticket price. Otherwise, charge the full price.\n",
    "## 18.Ticket Type Pricing\n",
    "If the ticket is for a weekend (is_weekend = True), add a 10% surcharge. Otherwise, charge the standard price.\n",
    "## 19.Baggage Fee\n",
    "If the total baggage weight is over 20kg, charge $10 per extra kilogram. Otherwise, no extra fee.\n",
    "## 20.Early Bird Discount\n",
    "If a ticket is booked more than 30 days in advance, apply a 10% discount. Otherwise, charge the full price.\n",
    "## 21.Pass or Fail\n",
    "If a student scores 40 or more, print \"Pass\". Otherwise, print \"Fail\"."
   ]
  },
  {
   "cell_type": "code",
   "execution_count": 6,
   "id": "a38ba4de-9df8-43cc-9c3d-c6c27581cb84",
   "metadata": {},
   "outputs": [
    {
     "name": "stdin",
     "output_type": "stream",
     "text": [
      "Enter the score: 40\n"
     ]
    },
    {
     "name": "stdout",
     "output_type": "stream",
     "text": [
      "Pass\n"
     ]
    }
   ],
   "source": [
    "score=float(input(\"Enter the score:\"))\n",
    "if score >=40:\n",
    "    print(\"Pass\")\n",
    "else:\n",
    "    print(\"Fail\")\n",
    "    "
   ]
  },
  {
   "cell_type": "markdown",
   "id": "31ba333f-2893-40a4-8b3a-da51d4e5d36f",
   "metadata": {},
   "source": [
    "## 15.Loyalty Points\n",
    "If a customer is a loyal member (is_loyal = True), they earn double loyalty points for their purchase. Otherwise, they earn standard points.\n",
    "## 14.Minimum Purchase Requirement\n",
    "If the total amount is less than $20, display a message: \"Minimum purchase of $20 is required.\" Otherwise, display the total amount.\n",
    "## 13.Tiered Discounts\n",
    "Apply discounts based on the total price:\n",
    "$0–$50: No discount.\n",
    "$50–$100: 10% discount.\n",
    "Over $100: 20% discount.\n",
    "## 16.Travel Discount\n",
    "If a person is traveling more than 500 miles, offer a 20% discount on ticket price. Otherwise, charge the full amount.\n",
    "## 17.Child or Senior Discount\n",
    "If a passenger is under 12 or over 60 years old, apply a 15% discount on the ticket price. Otherwise, charge the full price.\n",
    "## 18.Ticket Type Pricing\n",
    "If the ticket is for a weekend (is_weekend = True), add a 10% surcharge. Otherwise, charge the standard price.\n",
    "## 19.Baggage Fee\n",
    "If the total baggage weight is over 20kg, charge $10 per extra kilogram. Otherwise, no extra fee.\n",
    "## 20.Early Bird Discount\n",
    "If a ticket is booked more than 30 days in advance, apply a 10% discount. Otherwise, charge the full price.\n",
    "## 21.Pass or Fail\n",
    "If a student scores 40 or more, print \"Pass\". Otherwise, print \"Fail\".\n",
    "## 22.Grade Assignment\n",
    "Based on a student's score, assign grades:\n",
    "90 and above: \"A\"\n",
    "75–89: \"B\"\n",
    "50–74: \"C\"\n",
    "Below 50: \"F"
   ]
  },
  {
   "cell_type": "code",
   "execution_count": 9,
   "id": "f7924b91-33e6-4e2a-86b8-59b08e03176f",
   "metadata": {},
   "outputs": [
    {
     "name": "stdin",
     "output_type": "stream",
     "text": [
      "Enter your score: 91\n"
     ]
    },
    {
     "name": "stdout",
     "output_type": "stream",
     "text": [
      "Since the score is 91.0 so the grade is A\n"
     ]
    }
   ],
   "source": [
    "score=float(input(\"Enter your score:\"))\n",
    "if score>=90:\n",
    "    grade=\"A\"\n",
    "elif score>=75:\n",
    "    grade=\"B\"\n",
    "elif score>=50:\n",
    "    grade=\"C\"\n",
    "else:\n",
    "    grade=\"F\"\n",
    "print(f\"Since the score is {score} so the grade is {grade}\")"
   ]
  },
  {
   "cell_type": "markdown",
   "id": "a8232701-0918-4907-b5ab-30ac8821882d",
   "metadata": {},
   "source": [
    "## 15.Loyalty Points\n",
    "If a customer is a loyal member (is_loyal = True), they earn double loyalty points for their purchase. Otherwise, they earn standard points.\n",
    "## 14.Minimum Purchase Requirement\n",
    "If the total amount is less than $20, display a message: \"Minimum purchase of $20 is required.\" Otherwise, display the total amount.\n",
    "## 13.Tiered Discounts\n",
    "Apply discounts based on the total price:\n",
    "$0–$50: No discount.\n",
    "$50–$100: 10% discount.\n",
    "Over $100: 20% discount.\n",
    "## 16.Travel Discount\n",
    "If a person is traveling more than 500 miles, offer a 20% discount on ticket price. Otherwise, charge the full amount.\n",
    "## 17.Child or Senior Discount\n",
    "If a passenger is under 12 or over 60 years old, apply a 15% discount on the ticket price. Otherwise, charge the full price.\n",
    "## 18.Ticket Type Pricing\n",
    "If the ticket is for a weekend (is_weekend = True), add a 10% surcharge. Otherwise, charge the standard price.\n",
    "## 19.Baggage Fee\n",
    "If the total baggage weight is over 20kg, charge $10 per extra kilogram. Otherwise, no extra fee.\n",
    "## 20.Early Bird Discount\n",
    "If a ticket is booked more than 30 days in advance, apply a 10% discount. Otherwise, charge the full price.\n",
    "## 21.Pass or Fail\n",
    "If a student scores 40 or more, print \"Pass\". Otherwise, print \"Fail\".\n",
    "## 22.Grade Assignment\n",
    "Based on a student's score, assign grades:\n",
    "90 and above: \"A\"\n",
    "75–89: \"B\"\n",
    "50–74: \"C\"\n",
    "Below 50: \"F\n",
    "## 23.Bonus Marks\n",
    "If a student completes all assignments, add 5 bonus marks to their score. Otherwise, no bonus marks`"
   ]
  },
  {
   "cell_type": "code",
   "execution_count": 21,
   "id": "8aa1ef84-a257-42c1-8aa7-86dffb9249d1",
   "metadata": {},
   "outputs": [
    {
     "name": "stdin",
     "output_type": "stream",
     "text": [
      "How many assignment you have Done yet: 26\n"
     ]
    },
    {
     "name": "stdout",
     "output_type": "stream",
     "text": [
      "since you have done 26 assignments so your marks=25\n"
     ]
    }
   ],
   "source": [
    "assignment=int(input(\"How many assignment you have Done yet:\"))\n",
    "mark=0\n",
    "if assignment >=20:\n",
    "    marks=20+5\n",
    "elif assignment >=10:\n",
    "    marks=10\n",
    "elif assignment >=5:\n",
    "    marks=5\n",
    "else:\n",
    "    marks=3\n",
    "print(f\"since you have done {assignment} assignments so your marks={marks}\")\n",
    "    "
   ]
  },
  {
   "cell_type": "markdown",
   "id": "aed0da6f-78c6-41ff-87f0-1dc51b83a58e",
   "metadata": {},
   "source": [
    "## 15.Loyalty Points\n",
    "If a customer is a loyal member (is_loyal = True), they earn double loyalty points for their purchase. Otherwise, they earn standard points.\n",
    "## 14.Minimum Purchase Requirement\n",
    "If the total amount is less than $20, display a message: \"Minimum purchase of $20 is required.\" Otherwise, display the total amount.\n",
    "## 13.Tiered Discounts\n",
    "Apply discounts based on the total price:\n",
    "$0–$50: No discount.\n",
    "$50–$100: 10% discount.\n",
    "Over $100: 20% discount.\n",
    "## 16.Travel Discount\n",
    "If a person is traveling more than 500 miles, offer a 20% discount on ticket price. Otherwise, charge the full amount.\n",
    "## 17.Child or Senior Discount\n",
    "If a passenger is under 12 or over 60 years old, apply a 15% discount on the ticket price. Otherwise, charge the full price.\n",
    "## 18.Ticket Type Pricing\n",
    "If the ticket is for a weekend (is_weekend = True), add a 10% surcharge. Otherwise, charge the standard price.\n",
    "## 19.Baggage Fee\n",
    "If the total baggage weight is over 20kg, charge $10 per extra kilogram. Otherwise, no extra fee.\n",
    "## 20.Early Bird Discount\n",
    "If a ticket is booked more than 30 days in advance, apply a 10% discount. Otherwise, charge the full price.\n",
    "## 21.Pass or Fail\n",
    "If a student scores 40 or more, print \"Pass\". Otherwise, print \"Fail\".\n",
    "## 22.Grade Assignment\n",
    "Based on a student's score, assign grades:\n",
    "90 and above: \"A\"\n",
    "75–89: \"B\"\n",
    "50–74: \"C\"\n",
    "Below 50: \"F\n",
    "## 24.Attendance Eligibility\n",
    "If a student's attendance is 75% or more, they are eligible to take the exam. Otherwise, they are not."
   ]
  },
  {
   "cell_type": "code",
   "execution_count": 2,
   "id": "9511f0d3-7090-495e-bf80-b67ebb176cbf",
   "metadata": {},
   "outputs": [
    {
     "name": "stdin",
     "output_type": "stream",
     "text": [
      "What is your name: Zarrar\n",
      "How much is your attendence in percentage : 76\n"
     ]
    },
    {
     "name": "stdout",
     "output_type": "stream",
     "text": [
      "Since your attendence is 76.0% You are allowed to take the exam\n"
     ]
    }
   ],
   "source": [
    "name=input(\"What is your name:\")\n",
    "atten=float(input(\"How much is your attendence in percentage :\"))\n",
    "if atten>=75:\n",
    "    print(f\"Since your attendence is {atten}% You are allowed to take the exam\")\n",
    "else:\n",
    "    print(f\"Since your attendance is {atten}% You are not allowed to take the exam\")\n",
    "           "
   ]
  },
  {
   "cell_type": "markdown",
   "id": "aa0f7da6-6651-4e2f-9a29-2697e91f043d",
   "metadata": {},
   "source": [
    "## 15.Loyalty Points\n",
    "If a customer is a loyal member (is_loyal = True), they earn double loyalty points for their purchase. Otherwise, they earn standard points.\n",
    "## 14.Minimum Purchase Requirement\n",
    "If the total amount is less than $20, display a message: \"Minimum purchase of $20 is required.\" Otherwise, display the total amount.\n",
    "## 13.Tiered Discounts\n",
    "Apply discounts based on the total price:\n",
    "$0–$50: No discount.\n",
    "$50–$100: 10% discount.\n",
    "Over $100: 20% discount.\n",
    "## 16.Travel Discount\n",
    "If a person is traveling more than 500 miles, offer a 20% discount on ticket price. Otherwise, charge the full amount.\n",
    "## 17.Child or Senior Discount\n",
    "If a passenger is under 12 or over 60 years old, apply a 15% discount on the ticket price. Otherwise, charge the full price.\n",
    "## 18.Ticket Type Pricing\n",
    "If the ticket is for a weekend (is_weekend = True), add a 10% surcharge. Otherwise, charge the standard price.\n",
    "## 19.Baggage Fee\n",
    "If the total baggage weight is over 20kg, charge $10 per extra kilogram. Otherwise, no extra fee.\n",
    "## 20.Early Bird Discount\n",
    "If a ticket is booked more than 30 days in advance, apply a 10% discount. Otherwise, charge the full price.\n",
    "## 21.Pass or Fail\n",
    "If a student scores 40 or more, print \"Pass\". Otherwise, print \"Fail\".\n",
    "## 22.Grade Assignment\n",
    "Based on a student's score, assign grades:\n",
    "90 and above: \"A\"\n",
    "75–89: \"B\"\n",
    "50–74: \"C\"\n",
    "Below 50: \"F\n",
    "## 24.Attendance Eligibility\n",
    "If a student's attendance is 75% or more, they are eligible to take the exam. Otherwise, they are not.\n",
    "## 25.Scholarship Eligibility\n",
    "If a student's grade is \"A\" and their annual family income is below $30,000, they are eligible for a scholarship. Otherwise, they are not."
   ]
  },
  {
   "cell_type": "code",
   "execution_count": 7,
   "id": "937424b7-eb9d-4a9d-a877-86b2e0a2f9ed",
   "metadata": {},
   "outputs": [
    {
     "name": "stdin",
     "output_type": "stream",
     "text": [
      "Enter your grade: A\n",
      "Enter your income: 20\n"
     ]
    },
    {
     "name": "stdout",
     "output_type": "stream",
     "text": [
      "You are eligible for a scholarship\n"
     ]
    }
   ],
   "source": [
    "grade=input(\"Enter your grade:\")\n",
    "if grade == \"A\":\n",
    "    income=float(input(\"Enter your income:\"))\n",
    "    if income<30000:\n",
    "        print(\"You are eligible for a scholarship\")\n",
    "    else:\n",
    "        print(\"Your income is to high you can affort the fees\")\n",
    "else:\n",
    "    print(\"Your grade is low\")"
   ]
  },
  {
   "cell_type": "code",
   "execution_count": null,
   "id": "de35fa02-2254-46fe-aced-c409b03a822c",
   "metadata": {},
   "outputs": [],
   "source": []
  }
 ],
 "metadata": {
  "kernelspec": {
   "display_name": "Python 3 (ipykernel)",
   "language": "python",
   "name": "python3"
  },
  "language_info": {
   "codemirror_mode": {
    "name": "ipython",
    "version": 3
   },
   "file_extension": ".py",
   "mimetype": "text/x-python",
   "name": "python",
   "nbconvert_exporter": "python",
   "pygments_lexer": "ipython3",
   "version": "3.12.7"
  }
 },
 "nbformat": 4,
 "nbformat_minor": 5
}
